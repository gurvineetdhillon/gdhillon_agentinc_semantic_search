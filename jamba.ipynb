{
 "cells": [
  {
   "cell_type": "code",
   "execution_count": 14,
   "metadata": {},
   "outputs": [],
   "source": [
    "import warnings\n",
    "warnings.filterwarnings('ignore')"
   ]
  },
  {
   "cell_type": "code",
   "execution_count": 15,
   "metadata": {},
   "outputs": [],
   "source": [
    "from ai21 import AI21Client\n",
    "from ai21.logger import set_verbose\n",
    "from ai21.models.chat import ChatMessage, ToolMessage, FunctionToolDefinition, ToolDefinition, ToolParameters\n",
    "import json, requests, re\n",
    "from bs4 import BeautifulSoup"
   ]
  },
  {
   "cell_type": "code",
   "execution_count": 16,
   "metadata": {},
   "outputs": [],
   "source": [
    "from utils import get_ai21_api_key\n",
    "ai21_api_key = get_ai21_api_key()\n",
    "\n",
    "client = AI21Client(api_key=ai21_api_key)"
   ]
  },
  {
   "cell_type": "code",
   "execution_count": null,
   "metadata": {},
   "outputs": [],
   "source": [
    "import pandas as pd\n",
    "path = 'data/r4_new_data.csv' \n",
    "data = pd.read_csv(path, keep_default_na=True, dtype=str)"
   ]
  },
  {
   "cell_type": "code",
   "execution_count": null,
   "metadata": {},
   "outputs": [],
   "source": [
    "messages = [\n",
    "    ChatMessage(\n",
    "        role=\"system\",\n",
    "        content=\"You are a helpful Recruiter search assistant. Process the <query, profiles> pair data as mentioned by user.\",\n",
    "    ),\n",
    "    ChatMessage(role=\"user\", content=\"Provide a classification MATCH or NOT_MATCH and rerank of profiles for a given query in order of their relevance to query\"),\n",
    "]\n",
    "response = client.chat.completions.create(messages=messages, model=\"jamba-1.5-large\",)\n",
    "assistant_message = response.choices[0].message\n",
    "messages.append(assistant_message)\n",
    "messages"
   ]
  },
  {
   "cell_type": "code",
   "execution_count": null,
   "metadata": {},
   "outputs": [],
   "source": [
    "import collections\n",
    "messages_profiles = collections.defaultdict(list)\n",
    "for searchid, messages, memberid, profile  in zip(data['searchid'].values, data['messages'].values, data['memberid'].values, data['profile'].values):\n",
    "    messages_profiles[(searchid, messages)].append((memberid, profile))"
   ]
  },
  {
   "cell_type": "code",
   "execution_count": null,
   "metadata": {},
   "outputs": [],
   "source": [
    "responses = []\n",
    "for query, profiles in messages_profiles.items():\n",
    "    if len(profiles)>:\n",
    "        continue\n",
    "    query_message = ChatMessage(role=\"user\", content=json.dumps(query))\n",
    "    profiles_message = ChatMessage(role=\"user\", content=json.dumps(profiles))\n",
    "    messages.append(query_message)\n",
    "    messages.append(profiles_message)\n",
    "    response_final = client.chat.completions.create(messages=messages, model=\"jamba-1.5-large\", tools=tools)\n",
    "    responses.append([query, profiles, response_final.choices[0].message.content])\n",
    "    messages.pop()\n",
    "    messages.pop()\n",
    "    print(\"Final response:\")\n",
    "    print(response_final.choices[0].message.content)"
   ]
  },
  {
   "cell_type": "code",
   "execution_count": null,
   "metadata": {},
   "outputs": [],
   "source": [
    "responses"
   ]
  },
  {
   "cell_type": "code",
   "execution_count": null,
   "metadata": {},
   "outputs": [],
   "source": [
    "for (query, profiles), response in zip(messages_profiles.items(), responses):\n",
    "    print(query)\n",
    "    print(profiles)\n",
    "    print(response[0], response[1], response[2])"
   ]
  },
  {
   "cell_type": "code",
   "execution_count": null,
   "metadata": {},
   "outputs": [],
   "source": []
  }
 ],
 "metadata": {
  "kernelspec": {
   "display_name": "Python 3",
   "language": "python",
   "name": "python3"
  },
  "language_info": {
   "codemirror_mode": {
    "name": "ipython",
    "version": 3
   },
   "file_extension": ".py",
   "mimetype": "text/x-python",
   "name": "python",
   "nbconvert_exporter": "python",
   "pygments_lexer": "ipython3",
   "version": "3.12.1"
  }
 },
 "nbformat": 4,
 "nbformat_minor": 2
}
